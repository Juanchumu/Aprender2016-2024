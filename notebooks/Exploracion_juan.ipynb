{
 "cells": [
  {
   "cell_type": "code",
   "execution_count": null,
   "id": "4662aebf-f994-4931-b7ed-1c0e693b8165",
   "metadata": {},
   "outputs": [],
   "source": []
  },
  {
   "cell_type": "code",
   "execution_count": null,
   "id": "3805aea1-2b2d-438f-ae47-9463e8156082",
   "metadata": {},
   "outputs": [],
   "source": []
  },
  {
   "cell_type": "code",
   "execution_count": null,
   "id": "4289f433-487d-4fa2-94f4-f22fa4b13037",
   "metadata": {},
   "outputs": [],
   "source": []
  },
  {
   "cell_type": "code",
   "execution_count": null,
   "id": "fa05a771-6ab5-4858-b998-ea00f9ea3c3e",
   "metadata": {},
   "outputs": [],
   "source": [
    "from pandas.api.types import is_numeric_dtype\n",
    "\n",
    "def analizar_dataframe(df):\n",
    "    for col in df.columns:\n",
    "        print(f\"\\nColumna: {col}\")\n",
    "        tipo = df[col].dtype\n",
    "\n",
    "        if is_numeric_dtype(tipo):\n",
    "            print(\"Tipo: float\")\n",
    "            print(f\"  Media: {df[col].mean()}\")\n",
    "            print(f\"  Moda: {df[col].mode().iloc[0] if not df[col].mode().empty else 'Sin moda'}\")\n",
    "            print(f\"  Mínimo: {df[col].min()}\")\n",
    "            print(f\"  Máximo: {df[col].max()}\")\n",
    "\n",
    "        elif pd.api.types.is_object_dtype(tipo):\n",
    "            print(\"Tipo: objeto\")\n",
    "            num_categorias = df[col].nunique()\n",
    "            if num_categorias > 20:\n",
    "                print(f\"  Más de 20 categorías ({num_categorias}), no se listan.\")\n",
    "            else:\n",
    "                print(f\"  Categorías más frecuentes:\")\n",
    "                print(f\"  {df[col].value_counts().head(5)}\")\n",
    "        else:\n",
    "            print(f\"Tipo no explorado: {tipo}\")\n",
    "        print(\"\\n\")"
   ]
  },
  {
   "cell_type": "code",
   "execution_count": null,
   "id": "7a8bc4e0-cb00-456c-b915-bad29c64c245",
   "metadata": {},
   "outputs": [],
   "source": [
    "#analizar_dataframe(data)"
   ]
  }
 ],
 "metadata": {
  "kernelspec": {
   "display_name": "Python 3 (ipykernel)",
   "language": "python",
   "name": "python3"
  },
  "language_info": {
   "codemirror_mode": {
    "name": "ipython",
    "version": 3
   },
   "file_extension": ".py",
   "mimetype": "text/x-python",
   "name": "python",
   "nbconvert_exporter": "python",
   "pygments_lexer": "ipython3",
   "version": "3.12.3"
  }
 },
 "nbformat": 4,
 "nbformat_minor": 5
}
